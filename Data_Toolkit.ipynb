{
  "cells": [
    {
      "cell_type": "markdown",
      "metadata": {
        "id": "FLKugLRewfY9"
      },
      "source": [
        "#Data Toolkit"
      ]
    },
    {
      "cell_type": "markdown",
      "metadata": {
        "id": "GBAXqecLwlLk"
      },
      "source": [
        "1. What is NumPy, and why is it widely used in Python ?\n",
        "  -  NumPy (Numerical Python) is a powerful Python library for numerical computing. It provides support for large, multi-dimensional arrays and matrices, along with a collection of mathematical functions to operate on them efficiently. NumPy is widely used because it offers fast array operations, vectorization, and integration with other scientific computing libraries, making it essential for data science, machine learning, and engineering applications.\n",
        "\n",
        "  Example Usage:"
      ]
    },
    {
      "cell_type": "code",
      "execution_count": null,
      "metadata": {
        "id": "pl7Iiqg-xZ1m"
      },
      "outputs": [],
      "source": [
        "import numpy as np\n",
        "\n",
        "# Creating an array\n",
        "arr = np.array([1, 2, 3, 4, 5])\n",
        "\n",
        "# Performing operations\n",
        "print(arr * 2)  # Output: [ 2  4  6  8 10]\n",
        "print(np.mean(arr))  # Output: 3.0\n"
      ]
    },
    {
      "cell_type": "markdown",
      "metadata": {
        "id": "-gdtEqu8xiGB"
      },
      "source": [
        "2. How does broadcasting work in NumPy ?\n",
        "   - Broadcasting allows NumPy to perform element-wise operations on arrays of different shapes without explicit loops.\n",
        "\n",
        "   Example:"
      ]
    },
    {
      "cell_type": "code",
      "execution_count": null,
      "metadata": {
        "id": "nPXJKfMxySIk"
      },
      "outputs": [],
      "source": [
        "import numpy as np\n",
        "\n",
        "# 1D array\n",
        "arr1 = np.array([1, 2, 3])\n",
        "\n",
        "# Scalar broadcasting\n",
        "print(arr1 + 5)\n",
        "# Output: [6 7 8]\n",
        "\n",
        "# 2D and 1D array broadcasting\n",
        "arr2 = np.array([[1], [2], [3]])  # Shape (3,1)\n",
        "arr3 = np.array([10, 20, 30])     # Shape (3,)\n",
        "\n",
        "print(arr2 + arr3)\n",
        "# Output:\n",
        "# [[11 21 31]\n",
        "#  [12 22 32]\n",
        "#  [13 23 33]]\n"
      ]
    },
    {
      "cell_type": "markdown",
      "metadata": {
        "id": "ioPagyDByZrQ"
      },
      "source": [
        "  Rules of Broadcasting\n",
        "\n",
        "1. If arrays have different dimensions, prepend 1 to the smaller array’s shape.\n",
        "2. Dimensions must either be the same or one of them should be 1 to match.\n",
        "3. NumPy automatically expands dimensions when needed."
      ]
    },
    {
      "cell_type": "markdown",
      "metadata": {
        "id": "K-McbxYEy3Xg"
      },
      "source": [
        "3. What is a Pandas DataFrame ?\n",
        "   -  A DataFrame in Pandas is a two-dimensional, tabular data structure similar to an Excel spreadsheet or SQL table. It consists of rows and columns, where each column can hold different data types.\n",
        "\n",
        "   Example:"
      ]
    },
    {
      "cell_type": "code",
      "execution_count": null,
      "metadata": {
        "id": "SrmUjT2EzUeB"
      },
      "outputs": [],
      "source": [
        "import pandas as pd\n",
        "\n",
        "# Creating a DataFrame from a dictionary\n",
        "data = {\n",
        "    'Name': ['Alice', 'Bob', 'Charlie'],\n",
        "    'Age': [25, 30, 35],\n",
        "    'City': ['New York', 'London', 'Paris']\n",
        "}\n",
        "\n",
        "df = pd.DataFrame(data)\n",
        "\n",
        "print(df)\n",
        "\n",
        " #Outpt\n",
        "\n",
        "   #  Name  Age      City\n",
        "#0   Alice   25  New York\n",
        "#1     Bob   30   London\n",
        "#2  Charlie   35    Paris\n"
      ]
    },
    {
      "cell_type": "markdown",
      "metadata": {
        "id": "eYL-nvVZz2C1"
      },
      "source": [
        "4. Explain the use of the groupby() method in Pandas .\n",
        "   - The groupby() method in Pandas is used to group data based on one or more columns and perform aggregate operations like sum, mean, count, etc.\n",
        "   \n",
        "   Example:"
      ]
    },
    {
      "cell_type": "code",
      "execution_count": null,
      "metadata": {
        "id": "2rjov1L40PNk"
      },
      "outputs": [],
      "source": [
        "import pandas as pd\n",
        "\n",
        "# Creating a DataFrame\n",
        "data = {\n",
        "    'Department': ['HR', 'IT', 'HR', 'IT', 'Finance'],\n",
        "    'Employee': ['Alice', 'Bob', 'Charlie', 'David', 'Eve'],\n",
        "    'Salary': [50000, 60000, 55000, 70000, 65000]\n",
        "}\n",
        "\n",
        "df = pd.DataFrame(data)\n",
        "\n",
        "# Grouping by 'Department' and calculating the average salary\n",
        "grouped_df = df.groupby('Department')['Salary'].mean()\n",
        "\n",
        "print(grouped_df)\n",
        "\n",
        "#Output\n",
        "\n",
        "#Department\n",
        "#Finance    65000.0\n",
        "#HR         52500.0\n",
        "#IT         65000.0\n",
        "#Name: Salary, dtype: float64\n",
        "\n"
      ]
    },
    {
      "cell_type": "markdown",
      "metadata": {
        "id": "pS_ycO8P0giQ"
      },
      "source": [
        "5. Why is Seaborn preferred for statistical visualizations ?\n",
        "   -  Seaborn is preferred for statistical visualizations because it:\n",
        "   1. Provides built-in themes for better aesthetics.\n",
        "   2.  Supports complex visualizations like heatmaps, violin plots, and pair plots.\n",
        "   3. Works seamlessly with Pandas DataFrames.\n",
        "   4.  Automatically handles statistical aggregation and categorical data.\n",
        "\n",
        "   Example: Creating a Seaborn Scatter Plot with Regression Line"
      ]
    },
    {
      "cell_type": "code",
      "execution_count": null,
      "metadata": {
        "collapsed": true,
        "id": "ZbOulowr1PND"
      },
      "outputs": [],
      "source": [
        "import seaborn as sns\n",
        "import matplotlib.pyplot as plt\n",
        "\n",
        "# Sample Data\n",
        "tips = sns.load_dataset(\"tips\")\n",
        "\n",
        "# Scatter plot with regression line\n",
        "sns.lmplot(x=\"total_bill\", y=\"tip\", data=tips)\n",
        "\n",
        "plt.show()\n"
      ]
    },
    {
      "cell_type": "markdown",
      "metadata": {
        "id": "N465wRX51k1H"
      },
      "source": [
        "6. What are the differences between NumPy arrays and Python lists ?\n",
        "   - ### **Differences Between NumPy Arrays and Python Lists**  \n",
        "\n",
        "| Feature          | NumPy Array (`ndarray`) | Python List |\n",
        "|-----------------|----------------|-------------|\n",
        "| **Speed**       | Faster (uses C-based optimizations) | Slower (interpreted in Python) |\n",
        "| **Memory**      | More efficient (fixed type, contiguous memory) | Less efficient (stores references) |\n",
        "| **Operations**  | Supports vectorized operations | Requires loops for element-wise operations |\n",
        "| **Data Type**   | Homogeneous (all elements must be of the same type) | Heterogeneous (can have mixed types) |\n",
        "| **Functionality** | Supports mathematical functions, broadcasting, and indexing | Limited mathematical operations |\n",
        "\n",
        "Example:\n"
      ]
    },
    {
      "cell_type": "code",
      "execution_count": null,
      "metadata": {
        "id": "51rLb5ik3DgQ"
      },
      "outputs": [],
      "source": [
        "import numpy as np\n",
        "import time\n",
        "\n",
        "# NumPy Array\n",
        "arr = np.array([1, 2, 3, 4, 5])\n",
        "\n",
        "# Python List\n",
        "lst = [1, 2, 3, 4, 5]\n",
        "\n",
        "# NumPy operation (vectorized)\n",
        "print(arr * 2)\n",
        "# Output: [ 2  4  6  8 10]\n",
        "\n",
        "# List operation (loop required)\n",
        "print([x * 2 for x in lst])\n",
        "# Output: [2, 4, 6, 8, 10]\n"
      ]
    },
    {
      "cell_type": "markdown",
      "metadata": {
        "id": "w8bNXSHn3Go6"
      },
      "source": [
        "7. What is a heatmap, and when should it be used ?\n",
        "   -  A heatmap is a data visualization technique that uses colors to represent values in a matrix or table. It helps identify patterns, correlations, and trends in large datasets.\n",
        "\n",
        "   ## When to Use a Heatmap:\n",
        "\n",
        "    1. To visualize correlations between numerical variables.\n",
        "    2. To represent density or intensity in a dataset.\n",
        "    3. For analyzing confusion matrices in machine learning.\n",
        "    4.  To detect missing values in a dataset.\n",
        "\n",
        "    Example: Creating a Heatmap in Seaborn\n",
        "\n"
      ]
    },
    {
      "cell_type": "code",
      "execution_count": null,
      "metadata": {
        "id": "CaFdEtss38QQ"
      },
      "outputs": [],
      "source": [
        "import seaborn as sns\n",
        "import matplotlib.pyplot as plt\n",
        "import numpy as np\n",
        "\n",
        "# Creating a random dataset\n",
        "data = np.random.rand(5, 5)\n",
        "\n",
        "# Plotting the heatmap\n",
        "sns.heatmap(data, annot=True, cmap=\"coolwarm\")\n",
        "\n",
        "plt.show()\n"
      ]
    },
    {
      "cell_type": "markdown",
      "metadata": {
        "id": "OEs0Y_Bx4GFF"
      },
      "source": [
        "8.  What does the term “vectorized operation” mean in NumPy ?\n",
        "    - A vectorized operation in NumPy means performing operations on entire arrays without using explicit loops. It leverages optimized C and Fortran code, making it much faster than traditional Python loops.\n",
        "\n",
        "    Example: Vectorized vs. Loop-Based Operations\n",
        "\n"
      ]
    },
    {
      "cell_type": "code",
      "execution_count": null,
      "metadata": {
        "id": "nJd5t8Jc4pZ8"
      },
      "outputs": [],
      "source": [
        "import numpy as np\n",
        "\n",
        "# NumPy array\n",
        "arr = np.array([1, 2, 3, 4, 5])\n",
        "\n",
        "# Vectorized operation (fast)\n",
        "print(arr * 2)\n",
        "# Output: [ 2  4  6  8 10]\n",
        "\n",
        "# Loop-based operation (slow)\n",
        "lst = [1, 2, 3, 4, 5]\n",
        "print([x * 2 for x in lst])\n",
        "# Output: [2, 4, 6, 8, 10]\n"
      ]
    },
    {
      "cell_type": "markdown",
      "metadata": {
        "id": "-aqpZQKr4ty0"
      },
      "source": [
        "9. How does Matplotlib differ from Plotly ?\n",
        "   -  ### **Differences Between Matplotlib and Plotly**  \n",
        "\n",
        "| Feature         | Matplotlib 📊 | Plotly 📈 |\n",
        "|---------------|-------------|---------|\n",
        "| **Interactivity** | Static plots (by default) | Interactive plots |\n",
        "| **Customization** | Highly customizable but manual | Easy customization with built-in themes |\n",
        "| **Ease of Use** | Requires more coding for complex plots | User-friendly with simpler syntax |\n",
        "| **3D Support** | Limited 3D support | Better 3D visualization |\n",
        "| **Best For** | Static reports, scientific plotting | Dashboards, web apps, interactive visualization |\n",
        "\n",
        "Example: Line Plot in Matplotlib\n",
        "\n",
        "\n"
      ]
    },
    {
      "cell_type": "code",
      "execution_count": null,
      "metadata": {
        "id": "2EIwAP7o5ZVJ"
      },
      "outputs": [],
      "source": [
        "import matplotlib.pyplot as plt\n",
        "\n",
        "x = [1, 2, 3, 4, 5]\n",
        "y = [10, 20, 25, 30, 50]\n",
        "\n",
        "plt.plot(x, y, marker='o')\n",
        "plt.title(\"Matplotlib Line Plot\")\n",
        "plt.show()\n"
      ]
    },
    {
      "cell_type": "markdown",
      "metadata": {
        "id": "GQmWjoSw5cXq"
      },
      "source": [
        "Example: Line Plot in Plotly"
      ]
    },
    {
      "cell_type": "code",
      "execution_count": null,
      "metadata": {
        "id": "Tuc_RHg15gjn"
      },
      "outputs": [],
      "source": [
        "import plotly.express as px\n",
        "\n",
        "data = {'x': [1, 2, 3, 4, 5], 'y': [10, 20, 25, 30, 50]}\n",
        "fig = px.line(data, x='x', y='y', markers=True, title=\"Plotly Line Plot\")\n",
        "fig.show()\n"
      ]
    },
    {
      "cell_type": "markdown",
      "metadata": {
        "id": "MziY9l8f5rk2"
      },
      "source": [
        "10.  What is the significance of hierarchical indexing in Pandas ?\n",
        "     -  Hierarchical indexing (MultiIndex) in Pandas allows multiple levels of indexing, making it easier to work with multi-dimensional data in a tabular format.\n",
        "\n",
        "     ### Why Use Hierarchical Indexing\n",
        "     1. Organizes data with multiple dimensions efficiently.\n",
        "     2.  Enables grouping & aggregation on multiple levels.\n",
        "     3. Facilitates slicing and subsetting complex datasets.\n",
        "\n",
        "     Example: Creating a MultiIndex DataFrame\n",
        "  \n",
        "\n",
        "     "
      ]
    },
    {
      "cell_type": "code",
      "execution_count": null,
      "metadata": {
        "id": "vg_5qB226q8_"
      },
      "outputs": [],
      "source": [
        "import pandas as pd\n",
        "\n",
        "# Creating a MultiIndex DataFrame\n",
        "data = {\n",
        "    'Sales': [200, 300, 400, 500],\n",
        "    'Profit': [50, 80, 100, 120]\n",
        "}\n",
        "\n",
        "index = pd.MultiIndex.from_tuples([\n",
        "    ('Store A', '2024-Q1'), ('Store A', '2024-Q2'),\n",
        "    ('Store B', '2024-Q1'), ('Store B', '2024-Q2')\n",
        "], names=['Store', 'Quarter'])\n",
        "\n",
        "df = pd.DataFrame(data, index=index)\n",
        "\n",
        "print(df)\n",
        "\n",
        "#Output:\n",
        "             #  Sales  Profit\n",
        "#Store   Quarter\n",
        "#Store A 2024-Q1    200     50\n",
        " #       2024-Q2    300     80\n",
        "#Store B 2024-Q1    400    100\n",
        " #       2024-Q2    500    120\n"
      ]
    },
    {
      "cell_type": "markdown",
      "metadata": {
        "id": "8aOsnqmT7EFu"
      },
      "source": [
        "11. What is the role of Seaborn’s pairplot() function ?\n",
        "    -  The pairplot() function in Seaborn is used to visualize pairwise relationships between numerical variables in a dataset. It creates a grid of scatter plots and histograms, helping in data exploration and correlation analysis.\n",
        "\n",
        "    Example: Using pairplot() in Seaborn\n",
        "    "
      ]
    },
    {
      "cell_type": "code",
      "execution_count": null,
      "metadata": {
        "id": "aXDXwBP39huo"
      },
      "outputs": [],
      "source": [
        "import seaborn as sns\n",
        "import matplotlib.pyplot as plt\n",
        "\n",
        "# Load example dataset\n",
        "df = sns.load_dataset(\"iris\")\n",
        "\n",
        "# Create a pairplot\n",
        "sns.pairplot(df, hue=\"species\", diag_kind=\"kde\")\n",
        "\n",
        "plt.show()\n"
      ]
    },
    {
      "cell_type": "markdown",
      "metadata": {
        "id": "seIU_WR_92Yj"
      },
      "source": [
        "12.  What is the purpose of the describe() function in Pandas ?\n",
        "    -  The describe() function in Pandas provides summary statistics of numerical (or categorical) columns in a DataFrame, helping in data exploration\n",
        "\n",
        "    Example: Using describe() in Pandas"
      ]
    },
    {
      "cell_type": "code",
      "execution_count": null,
      "metadata": {
        "id": "-q9HOaR0-vQx"
      },
      "outputs": [],
      "source": [
        "import pandas as pd\n",
        "\n",
        "# Sample DataFrame\n",
        "data = {'Age': [25, 30, 35, 40, 45], 'Salary': [50000, 60000, 70000, 80000, 90000]}\n",
        "df = pd.DataFrame(data)\n",
        "\n",
        "# Get summary statistics\n",
        "print(df.describe())\n",
        "\n",
        "#Output:\n",
        "#             Age       Salary\n",
        "#count   5.00000      5.00000\n",
        "#mean   35.00000  70000.00000\n",
        "#std     7.90569  15811.38830\n",
        "#min    25.00000  50000.00000\n",
        "##25%    30.00000  60000.00000\n",
        "#50%    35.00000  70000.00000\n",
        "#75%    40.00000  80000.00000\n",
        "#max    45.00000  90000.00000\n"
      ]
    },
    {
      "cell_type": "markdown",
      "metadata": {
        "id": "ZMs4etYG_DEQ"
      },
      "source": [
        "13.  Why is handling missing data important in Pandas ?\n",
        "    -  Handling missing data in Pandas is important to ensure accurate analysis and prevent errors in computations. Missing values can distort statistical results and affect machine learning models.\n",
        "\n",
        "    Example:"
      ]
    },
    {
      "cell_type": "code",
      "execution_count": null,
      "metadata": {
        "id": "wJr02GKr6uRf"
      },
      "outputs": [],
      "source": [
        "import pandas as pd\n",
        "import numpy as np\n",
        "\n",
        "# Creating a DataFrame with missing values\n",
        "data = {'A': [1, 2, np.nan], 'B': [4, np.nan, 6]}\n",
        "df = pd.DataFrame(data)\n",
        "\n",
        "# Handling missing values\n",
        "df.fillna(0, inplace=True)  # Replace NaN with 0\n",
        "\n",
        "print(df)\n",
        "\n",
        "\n",
        "#Output\n",
        "\n",
        "#     A    B\n",
        "# 0  1.0  4.0\n",
        "# 1  2.0  0.0\n",
        "# 2  0.0  6.0\n"
      ]
    },
    {
      "cell_type": "markdown",
      "metadata": {
        "id": "AkY0BRE37FpP"
      },
      "source": [
        "14.  What are the benefits of using Plotly for data visualization ?\n",
        "     - 1. Interactive Plots – Enables zooming, hovering, and panning.\n",
        "       2. High-Quality Visuals – Produces aesthetically appealing charts.\n",
        "       3. Supports Multiple Chart Types – Includes scatter plots, bar charts, 3D plots, etc.\n",
        "       4. Easy Integration – Works with Jupyter Notebooks, Dash, and web applications.\n",
        "       5. Customizable – Allows detailed styling and annotations.\n",
        "\n",
        "       Example:"
      ]
    },
    {
      "cell_type": "code",
      "execution_count": null,
      "metadata": {
        "id": "HLAV4J769tVH"
      },
      "outputs": [],
      "source": [
        "import plotly.express as px\n",
        "\n",
        "# Sample data\n",
        "data = px.data.iris()\n",
        "\n",
        "# Creating an interactive scatter plot\n",
        "fig = px.scatter(data, x=\"sepal_width\", y=\"sepal_length\", color=\"species\")\n",
        "\n",
        "# Show plot\n",
        "fig.show()\n"
      ]
    },
    {
      "cell_type": "markdown",
      "metadata": {
        "id": "xodkVkN492sW"
      },
      "source": [
        "15.  How does NumPy handle multidimensional arrays ?\n",
        "     -  NumPy uses ndarrays (N-dimensional arrays) to efficiently store and manipulate multidimensional data. It supports indexing, slicing, reshaping, and broadcasting operations.\n",
        "\n",
        "     Example:"
      ]
    },
    {
      "cell_type": "code",
      "execution_count": null,
      "metadata": {
        "id": "bmSCFAWh-IAF"
      },
      "outputs": [],
      "source": [
        "import numpy as np\n",
        "\n",
        "# Creating a 2D array (matrix)\n",
        "arr = np.array([[1, 2, 3], [4, 5, 6]])\n",
        "\n",
        "# Accessing elements\n",
        "print(arr[1, 2])  # Output: 6\n",
        "\n",
        "# Reshaping into a 3D array\n",
        "arr_3d = arr.reshape(2, 1, 3)\n",
        "print(arr_3d)\n"
      ]
    },
    {
      "cell_type": "markdown",
      "metadata": {
        "id": "NL9ykp4k-Lp2"
      },
      "source": [
        "16. What is the role of Bokeh in data visualization ?\n",
        "    -   Bokeh is a Python library designed for creating interactive and web-friendly visualizations. It allows users to build dashboards and plots that can be embedded in web applications.\n",
        "\n",
        "    Example:"
      ]
    },
    {
      "cell_type": "code",
      "execution_count": null,
      "metadata": {
        "id": "vblrr5an-lAY"
      },
      "outputs": [],
      "source": [
        "from bokeh.plotting import figure, show\n",
        "from bokeh.io import output_notebook\n",
        "\n",
        "output_notebook()  # Display in Jupyter Notebook\n",
        "\n",
        "# Create a figure\n",
        "p = figure(title=\"Bokeh Line Plot\", x_axis_label=\"X\", y_axis_label=\"Y\")\n",
        "\n",
        "# Add a line plot\n",
        "p.line([1, 2, 3, 4], [10, 20, 25, 30], line_width=2)\n",
        "\n",
        "show(p)\n"
      ]
    },
    {
      "cell_type": "markdown",
      "metadata": {
        "id": "tULrGzrN-qDM"
      },
      "source": [
        "17. Explain the difference between apply() and map() in Pandas .\n",
        "    -  ### **Difference Between `apply()` and `map()` in Pandas:**\n",
        "\n",
        "| Function  | Use Case | Works On | Example |\n",
        "|-----------|---------|----------|---------|\n",
        "| `apply()` | Applies a function to each row/column | Series & DataFrame | `df[\"col\"].apply(func)` or `df.apply(func, axis=1)` |\n",
        "| `map()` | Applies a function element-wise | Series only | `df[\"col\"].map(func)` |\n",
        "\n",
        "Example:\n"
      ]
    },
    {
      "cell_type": "code",
      "execution_count": null,
      "metadata": {
        "id": "N2nCfFsF_POB"
      },
      "outputs": [],
      "source": [
        "import pandas as pd\n",
        "\n",
        "# Sample DataFrame\n",
        "df = pd.DataFrame({'A': [1, 2, 3], 'B': [4, 5, 6]})\n",
        "\n",
        "# Using apply() on a column\n",
        "df['A_squared'] = df['A'].apply(lambda x: x**2)\n",
        "\n",
        "# Using map() on a Series\n",
        "df['B_double'] = df['B'].map(lambda x: x * 2)\n",
        "\n",
        "print(df)\n",
        "\n",
        "\n",
        "#Output\n",
        "\n",
        "#   A  B  A_squared  B_double\n",
        "# 0  1  4         1        8\n",
        "# 1  2  5         4       10\n",
        "# 2  3  6         9       12\n"
      ]
    },
    {
      "cell_type": "markdown",
      "metadata": {
        "id": "sZGnHe_l_nCA"
      },
      "source": [
        "18. What are some advanced features of NumPy ?\n",
        "    -  1. Broadcasting – Perform operations on arrays of different shapes.\n",
        "       2. Vectorization – Fast element-wise operations without loops.\n",
        "       3. Masked Arrays – Handle missing or invalid values.\n",
        "       4. Linear Algebra Functions – Solve equations, find eigenvalues, etc.\n",
        "       5. FFT (Fast Fourier Transform) – Perform signal processing.\n",
        "       6. Random Sampling – Generate random numbers efficiently.\n",
        "\n",
        "       Example:"
      ]
    },
    {
      "cell_type": "code",
      "execution_count": null,
      "metadata": {
        "id": "PxoyIhWyAUx_"
      },
      "outputs": [],
      "source": [
        "import numpy as np\n",
        "\n",
        "# Broadcasting example\n",
        "arr1 = np.array([[1], [2], [3]])  # 3x1 array\n",
        "arr2 = np.array([4, 5, 6])  # 1x3 array\n",
        "result = arr1 + arr2  # Broadcasts to 3x3 shape\n",
        "\n",
        "# Linear algebra example: solving Ax = B\n",
        "A = np.array([[3, 1], [1, 2]])\n",
        "B = np.array([9, 8])\n",
        "x = np.linalg.solve(A, B)  # Solves for x\n",
        "\n",
        "print(\"Broadcasted Array:\\n\", result)\n",
        "print(\"Solution to Ax = B:\", x)\n"
      ]
    },
    {
      "cell_type": "markdown",
      "metadata": {
        "id": "BwO2hPE6AZLt"
      },
      "source": [
        "19. How does Pandas simplify time series analysis ?\n",
        "    - 1. Datetime Indexing – Easily handle dates as index.\n",
        "      2. Resampling – Aggregate data at different time intervals.\n",
        "      3. Time-based Slicing – Filter data by specific dates.\n",
        "      4. Rolling & Expanding Windows – Compute moving averages.\n",
        "      5. Shifting & Lagging – Analyze trends over time.\n",
        "\n",
        "      Example:"
      ]
    },
    {
      "cell_type": "code",
      "execution_count": null,
      "metadata": {
        "id": "LqJhkPqZBJdJ"
      },
      "outputs": [],
      "source": [
        "import pandas as pd\n",
        "\n",
        "# Creating a time series DataFrame\n",
        "dates = pd.date_range(start=\"2024-01-01\", periods=5, freq=\"D\")\n",
        "df = pd.DataFrame({\"date\": dates, \"value\": [10, 20, 15, 25, 30]})\n",
        "df.set_index(\"date\", inplace=True)\n",
        "\n",
        "# Resampling: Weekly mean\n",
        "weekly_avg = df.resample(\"W\").mean()\n",
        "\n",
        "# Rolling window: 2-day moving average\n",
        "df[\"rolling_avg\"] = df[\"value\"].rolling(window=2).mean()\n",
        "\n",
        "print(df)\n",
        "\n",
        "#Output\n",
        "\n",
        "#            value  rolling_avg\n",
        "# date\n",
        "# 2024-01-01     10          NaN\n",
        "# 2024-01-02     20         15.0\n",
        "# 2024-01-03     15         17.5\n",
        "# 2024-01-04     25         20.0\n",
        "# 2024-01-05     30         27.5\n"
      ]
    },
    {
      "cell_type": "markdown",
      "metadata": {
        "id": "sO2o8IGABZtZ"
      },
      "source": [
        "20.  What is the role of a pivot table in Pandas ?\n",
        "     -  A pivot table in Pandas is used to summarize, aggregate, and reshape data efficiently. It helps in analyzing large datasets by grouping and applying functions like sum, mean, or count.\n",
        "\n",
        "     Example:"
      ]
    },
    {
      "cell_type": "code",
      "execution_count": null,
      "metadata": {
        "id": "S1UpzrZvBszG"
      },
      "outputs": [],
      "source": [
        "import pandas as pd\n",
        "\n",
        "# Sample DataFrame\n",
        "data = {\n",
        "    \"Category\": [\"A\", \"A\", \"B\", \"B\", \"C\"],\n",
        "    \"Salesperson\": [\"X\", \"Y\", \"X\", \"Y\", \"X\"],\n",
        "    \"Sales\": [100, 200, 150, 250, 300]\n",
        "}\n",
        "\n",
        "df = pd.DataFrame(data)\n",
        "\n",
        "# Creating a pivot table\n",
        "pivot = df.pivot_table(values=\"Sales\", index=\"Category\", columns=\"Salesperson\", aggfunc=\"sum\", fill_value=0)\n",
        "\n",
        "print(pivot)\n",
        "\n",
        "#Output\n",
        "\n",
        "# Salesperson    X    Y\n",
        "# Category\n",
        "# A            100  200\n",
        "# B            150  250\n",
        "# C            300    0\n",
        "\n"
      ]
    },
    {
      "cell_type": "markdown",
      "metadata": {
        "id": "ZN8GVZJVB99Q"
      },
      "source": [
        "21. Why is NumPy’s array slicing faster than Python’s list slicing ?\n",
        "    - 1. Memory Efficiency – NumPy arrays use contiguous memory blocks, making operations faster.\n",
        "      2. No Copying (Views Instead of Copies) – Slicing a NumPy array creates a\n",
        "      3.    view (not a copy), avoiding redundant memory allocation.\n",
        "      4. Optimized C Backend – NumPy is implemented in C, enabling low-level optimizations.\n",
        "\n",
        "      Example:"
      ]
    },
    {
      "cell_type": "code",
      "execution_count": null,
      "metadata": {
        "id": "hD5oJDv4ChrP"
      },
      "outputs": [],
      "source": [
        "import numpy as np\n",
        "import time\n",
        "\n",
        "# NumPy array slicing\n",
        "arr = np.arange(1000000)\n",
        "start = time.time()\n",
        "sliced_arr = arr[:500000]  # Creates a view\n",
        "end = time.time()\n",
        "print(\"NumPy slicing time:\", end - start)\n",
        "\n",
        "# Python list slicing\n",
        "lst = list(range(1000000))\n",
        "start = time.time()\n",
        "sliced_lst = lst[:500000]  # Creates a new list (copy)\n",
        "end = time.time()\n",
        "print(\"List slicing time:\", end - start)\n",
        "\n",
        "#Output\n",
        "\n",
        "#NumPy slicing time: 0.00001 sec\n",
        "#List slicing time: 0.005 sec\n",
        "\n",
        "\n"
      ]
    },
    {
      "cell_type": "markdown",
      "metadata": {
        "id": "WVnfPnXuCysk"
      },
      "source": [
        "22. What are some common use cases for Seaborn?\n",
        "    - 1. Statistical Data Visualization – Built-in support for statistical plots.\n",
        "      2. Beautiful and Informative Graphs – Enhances Matplotlib visuals.\n",
        "      3. Easy Handling of Categorical Data – Supports box plots, violin plots, etc.\n",
        "      4. Correlation Analysis – Heatmaps for relationships between variables.\n",
        "      5. Regression Analysis – Visualizes trends and relationships.\n",
        "\n",
        "      Example:"
      ]
    },
    {
      "cell_type": "code",
      "execution_count": null,
      "metadata": {
        "id": "oa5L0_pGDUsn"
      },
      "outputs": [],
      "source": [
        "import seaborn as sns\n",
        "import matplotlib.pyplot as plt\n",
        "\n",
        "# Load sample dataset\n",
        "tips = sns.load_dataset(\"tips\")\n",
        "\n",
        "# Create a boxplot to analyze total bill distribution by day\n",
        "sns.boxplot(x=\"day\", y=\"total_bill\", data=tips, palette=\"coolwarm\")\n",
        "\n",
        "# Show plot\n",
        "plt.show()\n"
      ]
    },
    {
      "cell_type": "markdown",
      "metadata": {
        "id": "ZbJswFY5DewS"
      },
      "source": [
        "#Practical Questions"
      ]
    },
    {
      "cell_type": "markdown",
      "metadata": {
        "id": "lpJW-d7TDl1k"
      },
      "source": [
        "1.  How do you create a 2D NumPy array and calculate the sum of each row ?"
      ]
    },
    {
      "cell_type": "code",
      "execution_count": 1,
      "metadata": {
        "id": "A0XqXQl5D6tv"
      },
      "outputs": [
        {
          "name": "stdout",
          "output_type": "stream",
          "text": [
            "2D Array:\n",
            " [[1 2 3]\n",
            " [4 5 6]\n",
            " [7 8 9]]\n",
            "Sum of each row: [ 6 15 24]\n"
          ]
        }
      ],
      "source": [
        "import numpy as np\n",
        "\n",
        "# Creating a 2D NumPy array\n",
        "arr = np.array([[1, 2, 3],\n",
        "                [4, 5, 6],\n",
        "                [7, 8, 9]])\n",
        "\n",
        "# Calculating the sum of each row\n",
        "row_sums = arr.sum(axis=1)\n",
        "\n",
        "print(\"2D Array:\\n\", arr)\n",
        "print(\"Sum of each row:\", row_sums)\n",
        "\n",
        "#Output\n",
        "\n",
        "#2D Array:\n",
        "# [[1 2 3]\n",
        "# [4 5 6]\n",
        "# [7 8 9]]\n",
        "#Sum of each row: [ 6 15 24]\n",
        "\n"
      ]
    },
    {
      "cell_type": "markdown",
      "metadata": {
        "id": "ntPIKgVmEHYo"
      },
      "source": [
        "2. Write a Pandas script to find the mean of a specific column in a DataFrame ."
      ]
    },
    {
      "cell_type": "code",
      "execution_count": null,
      "metadata": {
        "id": "xQ0cjN64ESPN"
      },
      "outputs": [],
      "source": [
        "import pandas as pd\n",
        "\n",
        "# Creating a sample DataFrame\n",
        "data = {'Name': ['Alice', 'Bob', 'Charlie', 'David'],\n",
        "        'Age': [25, 30, 35, 40],\n",
        "        'Salary': [50000, 60000, 70000, 80000]}\n",
        "\n",
        "df = pd.DataFrame(data)\n",
        "\n",
        "# Calculating the mean of the 'Salary' column\n",
        "mean_salary = df['Salary'].mean()\n",
        "\n",
        "print(\"Mean Salary:\", mean_salary)\n",
        "\n",
        "#Output\n",
        "\n",
        "#Mean Salary: 65000.0\n"
      ]
    },
    {
      "cell_type": "markdown",
      "metadata": {
        "id": "c-t4yRttEc_S"
      },
      "source": [
        "3. Create a scatter plot using Matplotlib ."
      ]
    },
    {
      "cell_type": "code",
      "execution_count": null,
      "metadata": {
        "id": "OLjiReaxEi1Y"
      },
      "outputs": [],
      "source": [
        "import matplotlib.pyplot as plt\n",
        "\n",
        "# Sample data\n",
        "x = [10, 20, 30, 40, 50]\n",
        "y = [5, 15, 25, 35, 45]\n",
        "\n",
        "# Creating the scatter plot\n",
        "plt.scatter(x, y, color='blue', marker='o', label=\"Data Points\")\n",
        "\n",
        "# Adding labels and title\n",
        "plt.xlabel(\"X-axis\")\n",
        "plt.ylabel(\"Y-axis\")\n",
        "plt.title(\"Simple Scatter Plot\")\n",
        "plt.legend()\n",
        "\n",
        "# Show the plot\n",
        "plt.show()\n"
      ]
    },
    {
      "cell_type": "markdown",
      "metadata": {
        "id": "Au0SjjU8Es2B"
      },
      "source": [
        "4. How do you calculate the correlation matrix using Seaborn and visualize it with a heatmap ?"
      ]
    },
    {
      "cell_type": "code",
      "execution_count": null,
      "metadata": {
        "id": "UWV6EtnaExfD"
      },
      "outputs": [],
      "source": [
        "import seaborn as sns\n",
        "import pandas as pd\n",
        "import numpy as np\n",
        "import matplotlib.pyplot as plt\n",
        "\n",
        "# Creating a sample DataFrame\n",
        "data = {\n",
        "    'A': np.random.rand(10),\n",
        "    'B': np.random.rand(10),\n",
        "    'C': np.random.rand(10),\n",
        "    'D': np.random.rand(10)\n",
        "}\n",
        "\n",
        "df = pd.DataFrame(data)\n",
        "\n",
        "# Calculating the correlation matrix\n",
        "corr_matrix = df.corr()\n",
        "\n",
        "# Visualizing with a heatmap\n",
        "sns.heatmap(corr_matrix, annot=True, cmap=\"coolwarm\", fmt=\".2f\", linewidths=0.5)\n",
        "\n",
        "# Show the plot\n",
        "plt.title(\"Correlation Matrix Heatmap\")\n",
        "plt.show()\n"
      ]
    },
    {
      "cell_type": "markdown",
      "metadata": {
        "id": "jEwx1EzLE6p8"
      },
      "source": [
        "5.  Generate a bar plot using Plotly ."
      ]
    },
    {
      "cell_type": "code",
      "execution_count": null,
      "metadata": {
        "id": "BCqb8SgcE_Cp"
      },
      "outputs": [],
      "source": [
        "import plotly.express as px\n",
        "\n",
        "# Sample data\n",
        "data = {\"Category\": [\"A\", \"B\", \"C\", \"D\"], \"Values\": [10, 20, 15, 25]}\n",
        "\n",
        "# Creating a bar plot\n",
        "fig = px.bar(data, x=\"Category\", y=\"Values\", title=\"Bar Plot using Plotly\", color=\"Category\")\n",
        "\n",
        "# Show plot\n",
        "fig.show()\n"
      ]
    },
    {
      "cell_type": "markdown",
      "metadata": {
        "id": "AuAE80SmFFZe"
      },
      "source": [
        "6.  Create a DataFrame and add a new column based on an existing column ."
      ]
    },
    {
      "cell_type": "code",
      "execution_count": null,
      "metadata": {
        "id": "4bdkEUGFFKFs"
      },
      "outputs": [],
      "source": [
        "import pandas as pd\n",
        "\n",
        "# Creating a sample DataFrame\n",
        "data = {'Name': ['Alice', 'Bob', 'Charlie', 'David'],\n",
        "        'Age': [25, 30, 35, 40]}\n",
        "\n",
        "df = pd.DataFrame(data)\n",
        "\n",
        "# Adding a new column 'Age Category' based on the 'Age' column\n",
        "df['Age Category'] = df['Age'].apply(lambda x: 'Young' if x < 30 else 'Adult')\n",
        "\n",
        "print(df)\n",
        "\n",
        "#Output\n",
        "\n",
        "#     Name  Age Age Category\n",
        "#0  Alice   25       Young\n",
        "#1    Bob   30       Adult\n",
        "#2 Charlie   35       Adult\n",
        "#3  David   40       Adult\n"
      ]
    },
    {
      "cell_type": "markdown",
      "metadata": {
        "id": "cG821zXrFZ8c"
      },
      "source": [
        "7. Write a program to perform element-wise multiplication of two NumPy arrays ."
      ]
    },
    {
      "cell_type": "code",
      "execution_count": null,
      "metadata": {
        "id": "2YKO9_oRFe__"
      },
      "outputs": [],
      "source": [
        "import numpy as np\n",
        "\n",
        "# Creating two NumPy arrays\n",
        "arr1 = np.array([1, 2, 3, 4])\n",
        "arr2 = np.array([5, 6, 7, 8])\n",
        "\n",
        "# Element-wise multiplication\n",
        "result = arr1 * arr2\n",
        "\n",
        "print(\"Array 1:\", arr1)\n",
        "print(\"Array 2:\", arr2)\n",
        "print(\"Element-wise Multiplication:\", result)\n",
        "\n",
        "#output\n",
        "\n",
        "#Array 1: [1 2 3 4]\n",
        "#Array 2: [5 6 7 8]\n",
        "#Element-wise Multiplication: [ 5 12 21 32]\n"
      ]
    },
    {
      "cell_type": "markdown",
      "metadata": {
        "id": "vLKe5qHDFrQ_"
      },
      "source": [
        "8. Create a line plot with multiple lines using Matplotlib ."
      ]
    },
    {
      "cell_type": "code",
      "execution_count": null,
      "metadata": {
        "id": "zWZFoY4OFwPQ"
      },
      "outputs": [],
      "source": [
        "import matplotlib.pyplot as plt\n",
        "\n",
        "# Sample data\n",
        "x = [1, 2, 3, 4, 5]\n",
        "y1 = [10, 20, 25, 30, 40]\n",
        "y2 = [5, 15, 20, 25, 35]\n",
        "\n",
        "# Creating the line plot\n",
        "plt.plot(x, y1, marker='o', linestyle='-', color='b', label=\"Line 1\")\n",
        "plt.plot(x, y2, marker='s', linestyle='--', color='r', label=\"Line 2\")\n",
        "\n",
        "# Adding labels and title\n",
        "plt.xlabel(\"X-axis\")\n",
        "plt.ylabel(\"Y-axis\")\n",
        "plt.title(\"Multiple Line Plot\")\n",
        "\n",
        "# Adding legend\n",
        "plt.legend()\n",
        "\n",
        "# Show the plot\n",
        "plt.show()\n"
      ]
    },
    {
      "cell_type": "markdown",
      "metadata": {
        "id": "PTDNiT-IF3ye"
      },
      "source": [
        "9.  Generate a Pandas DataFrame and filter rows where a column value is greater than a threshold ."
      ]
    },
    {
      "cell_type": "code",
      "execution_count": null,
      "metadata": {
        "id": "2faIiUxUF8WN"
      },
      "outputs": [],
      "source": [
        "import pandas as pd\n",
        "\n",
        "# Creating a sample DataFrame\n",
        "data = {'Name': ['Alice', 'Bob', 'Charlie', 'David', 'Eve'],\n",
        "        'Age': [25, 30, 35, 40, 22]}\n",
        "\n",
        "df = pd.DataFrame(data)\n",
        "\n",
        "# Filtering rows where Age is greater than 30\n",
        "filtered_df = df[df['Age'] > 30]\n",
        "\n",
        "print(filtered_df)\n",
        "\n",
        "#output\n",
        "\n",
        "#     Name  Age\n",
        "#2  Charlie   35\n",
        "#3   David   40\n"
      ]
    },
    {
      "cell_type": "markdown",
      "metadata": {
        "id": "2-5HE__CGIbM"
      },
      "source": [
        "10. Create a histogram using Seaborn to visualize a distribution ."
      ]
    },
    {
      "cell_type": "code",
      "execution_count": null,
      "metadata": {
        "id": "trGWuX87GTui"
      },
      "outputs": [],
      "source": [
        "import seaborn as sns\n",
        "import matplotlib.pyplot as plt\n",
        "import numpy as np\n",
        "\n",
        "# Generating sample data\n",
        "data = np.random.randn(1000)  # 1000 random values from a normal distribution\n",
        "\n",
        "# Creating the histogram\n",
        "sns.histplot(data, bins=30, kde=True, color=\"blue\")\n",
        "\n",
        "# Adding labels and title\n",
        "plt.xlabel(\"Value\")\n",
        "plt.ylabel(\"Frequency\")\n",
        "plt.title(\"Histogram of Random Data\")\n",
        "\n",
        "# Show the plot\n",
        "plt.show()\n"
      ]
    },
    {
      "cell_type": "markdown",
      "metadata": {
        "id": "0Cq9wxJfGVlv"
      },
      "source": [
        "11.  Perform matrix multiplication using NumPy ."
      ]
    },
    {
      "cell_type": "code",
      "execution_count": null,
      "metadata": {
        "id": "t1uVxMEBGiqm"
      },
      "outputs": [],
      "source": [
        "import numpy as np\n",
        "\n",
        "# Creating two matrices\n",
        "A = np.array([[1, 2],\n",
        "              [3, 4]])\n",
        "\n",
        "B = np.array([[5, 6],\n",
        "              [7, 8]])\n",
        "\n",
        "# Matrix multiplication\n",
        "result = np.dot(A, B)  # or A @ B (alternative syntax)\n",
        "\n",
        "print(\"Matrix A:\\n\", A)\n",
        "print(\"Matrix B:\\n\", B)\n",
        "print(\"Matrix Multiplication Result:\\n\", result)\n",
        "\n",
        "#Output\n",
        "\n",
        "#Matrix A:\n",
        "# [[1 2]\n",
        "# [3 4]]\n",
        "#Matrix B:\n",
        "# [[5 6]\n",
        "# [7 8]]\n",
        "#Matrix Multiplication Result:\n",
        "# [[19 22]\n",
        "# [43 50]]\n"
      ]
    },
    {
      "cell_type": "markdown",
      "metadata": {
        "id": "0aCMXMLyG3Ab"
      },
      "source": [
        "12.  Use Pandas to load a CSV file and display its first 5 rows ."
      ]
    },
    {
      "cell_type": "code",
      "execution_count": null,
      "metadata": {
        "id": "vu_tDbQpG98V"
      },
      "outputs": [],
      "source": [
        "import pandas as pd\n",
        "\n",
        "# Load the CSV file\n",
        "df = pd.read_csv(\"data.csv\")  # Replace \"data.csv\" with your actual file path\n",
        "\n",
        "# Display the first 5 rows\n",
        "print(df.head())\n"
      ]
    },
    {
      "cell_type": "markdown",
      "metadata": {
        "id": "zukJjFygHGAp"
      },
      "source": [
        "13. Create a 3D scatter plot using Plotly ."
      ]
    },
    {
      "cell_type": "code",
      "execution_count": null,
      "metadata": {
        "id": "lFz5dVMzHL16"
      },
      "outputs": [],
      "source": [
        "import plotly.express as px\n",
        "import numpy as np\n",
        "import pandas as pd\n",
        "\n",
        "# Generating sample 3D data\n",
        "np.random.seed(42)\n",
        "df = pd.DataFrame({\n",
        "    \"X\": np.random.randn(50),\n",
        "    \"Y\": np.random.randn(50),\n",
        "    \"Z\": np.random.randn(50),\n",
        "    \"Category\": np.random.choice([\"A\", \"B\", \"C\"], 50)\n",
        "})\n",
        "\n",
        "# Creating a 3D scatter plot\n",
        "fig = px.scatter_3d(df, x=\"X\", y=\"Y\", z=\"Z\", color=\"Category\",\n",
        "                     title=\"3D Scatter Plot\", size_max=5)\n",
        "\n",
        "# Show the plot\n",
        "fig.show()\n"
      ]
    }
  ],
  "metadata": {
    "colab": {
      "provenance": []
    },
    "kernelspec": {
      "display_name": "Python 3",
      "name": "python3"
    },
    "language_info": {
      "codemirror_mode": {
        "name": "ipython",
        "version": 3
      },
      "file_extension": ".py",
      "mimetype": "text/x-python",
      "name": "python",
      "nbconvert_exporter": "python",
      "pygments_lexer": "ipython3",
      "version": "3.13.1"
    }
  },
  "nbformat": 4,
  "nbformat_minor": 0
}
